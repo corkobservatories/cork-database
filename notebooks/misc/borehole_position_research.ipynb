{
  "nbformat": 4,
  "nbformat_minor": 0,
  "metadata": {
    "colab": {
      "provenance": []
    },
    "kernelspec": {
      "name": "python3",
      "display_name": "Python 3"
    },
    "language_info": {
      "name": "python"
    }
  },
  "cells": [
    {
      "cell_type": "code",
      "execution_count": 26,
      "metadata": {
        "id": "vjhLBhHKVvDu"
      },
      "outputs": [],
      "source": [
        "import pandas as pd\n",
        "import numpy as np"
      ]
    },
    {
      "cell_type": "code",
      "source": [
        "def hemisphere_sign(hemisphere_letter):\n",
        "    sign = pd.Series(np.ones(hemisphere_letter.shape))\n",
        "    sign[hemisphere_letter.str.lower().str.contains('w')] = -1.0\n",
        "    sign[hemisphere_letter.str.lower().str.contains('s')] = -1.0\n",
        "    return sign"
      ],
      "metadata": {
        "id": "zfWEWY_MWxl0"
      },
      "execution_count": 31,
      "outputs": []
    },
    {
      "cell_type": "code",
      "source": [
        "def ddm2dd(ddm):\n",
        "    \"\"\"Convert string column with degrees, decimal, minutes and hemisphere to decimal degrees\n",
        "    \"\"\"\n",
        "    #which = 'Latitude'\n",
        "    #which = 'Longitude'\n",
        "    split_1 = ddm.str.split('°', expand=True)\n",
        "    split_2 = split_1[1].str.split(\"'\", expand=True)\n",
        "\n",
        "    #split_1, split_2\n",
        "\n",
        "    return (split_1[0].astype(float) + split_2[0].astype(float)/60) * hemisphere_sign(split_2[1])"
      ],
      "metadata": {
        "id": "51GEWZ67WKXU"
      },
      "execution_count": 34,
      "outputs": []
    },
    {
      "cell_type": "markdown",
      "source": [
        "# Cascadia U1301A/B\n"
      ],
      "metadata": {
        "id": "IVvyOAN8j5_b"
      }
    },
    {
      "cell_type": "code",
      "source": [
        "df = pd.read_html('http://publications.iodp.org/proceedings/301/101/101_t2.htm')[0]"
      ],
      "metadata": {
        "id": "XREBpJtHVya1"
      },
      "execution_count": 3,
      "outputs": []
    },
    {
      "cell_type": "code",
      "source": [
        "df['lon_dd'] = ddm2dd(df['Longitude'])\n",
        "df['lat_dd'] = ddm2dd(df['Latitude'])\n",
        "df"
      ],
      "metadata": {
        "colab": {
          "base_uri": "https://localhost:8080/",
          "height": 394
        },
        "id": "zWzCDKSVaR5y",
        "outputId": "4ada1658-15ed-40f2-e94b-b69983f9065f"
      },
      "execution_count": 37,
      "outputs": [
        {
          "output_type": "execute_result",
          "data": {
            "text/plain": [
              "      Site/Hole     Latitude     Longitude             Seismic line    CDP/TR  \\\n",
              "0   Hole U1301A  47°45.210'N  127°45.833'W              GeoB 00-466   CDP 557   \n",
              "1   Hole U1301B  47°45.228'N  127°45.827'W              GeoB 00-466   CDP 556   \n",
              "2   Hole U1301C  47°45.280'N  127°45.800'W              GeoB 00-468   CDP 388   \n",
              "3   Hole U1301D  47°45.279'N  127°45.786'W              GeoB 00-468   CDP 390   \n",
              "4   Hole U1026B  47°45.757'N  127°45.548'W              GeoB 00-203   CDP 962   \n",
              "5   Hole U1027C  47°45.387'N  127°43.867'W              GeoB 00-203   CDP 741   \n",
              "6         SR-2A  47°45.662'N  127°45.674'W              GeoB 00-482   CDP 439   \n",
              "7      FR-1A, C  47°54.105'N  128°33.468'W  InLine 44 (GeoB 00-365)    TR 426   \n",
              "8         FR-1B  47°54.132'N  128°33.591'W  InLine 44 (GeoB 00-365)    TR 410   \n",
              "9         DR-1A  47°38.810'N  127°26.999'W            EW0702 Line 1  CDP 3070   \n",
              "10        DR-2A  47°37.449'N  127°20.049'W            EW0702 Line 1  CDP 1720   \n",
              "\n",
              "        lon_dd     lat_dd  \n",
              "0  -127.763883  47.753500  \n",
              "1  -127.763783  47.753800  \n",
              "2  -127.763333  47.754667  \n",
              "3  -127.763100  47.754650  \n",
              "4  -127.759133  47.762617  \n",
              "5  -127.731117  47.756450  \n",
              "6  -127.761233  47.761033  \n",
              "7  -128.557800  47.901750  \n",
              "8  -128.559850  47.902200  \n",
              "9  -127.449983  47.646833  \n",
              "10 -127.334150  47.624150  "
            ],
            "text/html": [
              "\n",
              "  <div id=\"df-86cfbf51-54db-4c4f-8566-ac4b02aa9238\">\n",
              "    <div class=\"colab-df-container\">\n",
              "      <div>\n",
              "<style scoped>\n",
              "    .dataframe tbody tr th:only-of-type {\n",
              "        vertical-align: middle;\n",
              "    }\n",
              "\n",
              "    .dataframe tbody tr th {\n",
              "        vertical-align: top;\n",
              "    }\n",
              "\n",
              "    .dataframe thead th {\n",
              "        text-align: right;\n",
              "    }\n",
              "</style>\n",
              "<table border=\"1\" class=\"dataframe\">\n",
              "  <thead>\n",
              "    <tr style=\"text-align: right;\">\n",
              "      <th></th>\n",
              "      <th>Site/Hole</th>\n",
              "      <th>Latitude</th>\n",
              "      <th>Longitude</th>\n",
              "      <th>Seismic line</th>\n",
              "      <th>CDP/TR</th>\n",
              "      <th>lon_dd</th>\n",
              "      <th>lat_dd</th>\n",
              "    </tr>\n",
              "  </thead>\n",
              "  <tbody>\n",
              "    <tr>\n",
              "      <th>0</th>\n",
              "      <td>Hole U1301A</td>\n",
              "      <td>47°45.210'N</td>\n",
              "      <td>127°45.833'W</td>\n",
              "      <td>GeoB 00-466</td>\n",
              "      <td>CDP 557</td>\n",
              "      <td>-127.763883</td>\n",
              "      <td>47.753500</td>\n",
              "    </tr>\n",
              "    <tr>\n",
              "      <th>1</th>\n",
              "      <td>Hole U1301B</td>\n",
              "      <td>47°45.228'N</td>\n",
              "      <td>127°45.827'W</td>\n",
              "      <td>GeoB 00-466</td>\n",
              "      <td>CDP 556</td>\n",
              "      <td>-127.763783</td>\n",
              "      <td>47.753800</td>\n",
              "    </tr>\n",
              "    <tr>\n",
              "      <th>2</th>\n",
              "      <td>Hole U1301C</td>\n",
              "      <td>47°45.280'N</td>\n",
              "      <td>127°45.800'W</td>\n",
              "      <td>GeoB 00-468</td>\n",
              "      <td>CDP 388</td>\n",
              "      <td>-127.763333</td>\n",
              "      <td>47.754667</td>\n",
              "    </tr>\n",
              "    <tr>\n",
              "      <th>3</th>\n",
              "      <td>Hole U1301D</td>\n",
              "      <td>47°45.279'N</td>\n",
              "      <td>127°45.786'W</td>\n",
              "      <td>GeoB 00-468</td>\n",
              "      <td>CDP 390</td>\n",
              "      <td>-127.763100</td>\n",
              "      <td>47.754650</td>\n",
              "    </tr>\n",
              "    <tr>\n",
              "      <th>4</th>\n",
              "      <td>Hole U1026B</td>\n",
              "      <td>47°45.757'N</td>\n",
              "      <td>127°45.548'W</td>\n",
              "      <td>GeoB 00-203</td>\n",
              "      <td>CDP 962</td>\n",
              "      <td>-127.759133</td>\n",
              "      <td>47.762617</td>\n",
              "    </tr>\n",
              "    <tr>\n",
              "      <th>5</th>\n",
              "      <td>Hole U1027C</td>\n",
              "      <td>47°45.387'N</td>\n",
              "      <td>127°43.867'W</td>\n",
              "      <td>GeoB 00-203</td>\n",
              "      <td>CDP 741</td>\n",
              "      <td>-127.731117</td>\n",
              "      <td>47.756450</td>\n",
              "    </tr>\n",
              "    <tr>\n",
              "      <th>6</th>\n",
              "      <td>SR-2A</td>\n",
              "      <td>47°45.662'N</td>\n",
              "      <td>127°45.674'W</td>\n",
              "      <td>GeoB 00-482</td>\n",
              "      <td>CDP 439</td>\n",
              "      <td>-127.761233</td>\n",
              "      <td>47.761033</td>\n",
              "    </tr>\n",
              "    <tr>\n",
              "      <th>7</th>\n",
              "      <td>FR-1A, C</td>\n",
              "      <td>47°54.105'N</td>\n",
              "      <td>128°33.468'W</td>\n",
              "      <td>InLine 44 (GeoB 00-365)</td>\n",
              "      <td>TR 426</td>\n",
              "      <td>-128.557800</td>\n",
              "      <td>47.901750</td>\n",
              "    </tr>\n",
              "    <tr>\n",
              "      <th>8</th>\n",
              "      <td>FR-1B</td>\n",
              "      <td>47°54.132'N</td>\n",
              "      <td>128°33.591'W</td>\n",
              "      <td>InLine 44 (GeoB 00-365)</td>\n",
              "      <td>TR 410</td>\n",
              "      <td>-128.559850</td>\n",
              "      <td>47.902200</td>\n",
              "    </tr>\n",
              "    <tr>\n",
              "      <th>9</th>\n",
              "      <td>DR-1A</td>\n",
              "      <td>47°38.810'N</td>\n",
              "      <td>127°26.999'W</td>\n",
              "      <td>EW0702 Line 1</td>\n",
              "      <td>CDP 3070</td>\n",
              "      <td>-127.449983</td>\n",
              "      <td>47.646833</td>\n",
              "    </tr>\n",
              "    <tr>\n",
              "      <th>10</th>\n",
              "      <td>DR-2A</td>\n",
              "      <td>47°37.449'N</td>\n",
              "      <td>127°20.049'W</td>\n",
              "      <td>EW0702 Line 1</td>\n",
              "      <td>CDP 1720</td>\n",
              "      <td>-127.334150</td>\n",
              "      <td>47.624150</td>\n",
              "    </tr>\n",
              "  </tbody>\n",
              "</table>\n",
              "</div>\n",
              "      <button class=\"colab-df-convert\" onclick=\"convertToInteractive('df-86cfbf51-54db-4c4f-8566-ac4b02aa9238')\"\n",
              "              title=\"Convert this dataframe to an interactive table.\"\n",
              "              style=\"display:none;\">\n",
              "        \n",
              "  <svg xmlns=\"http://www.w3.org/2000/svg\" height=\"24px\"viewBox=\"0 0 24 24\"\n",
              "       width=\"24px\">\n",
              "    <path d=\"M0 0h24v24H0V0z\" fill=\"none\"/>\n",
              "    <path d=\"M18.56 5.44l.94 2.06.94-2.06 2.06-.94-2.06-.94-.94-2.06-.94 2.06-2.06.94zm-11 1L8.5 8.5l.94-2.06 2.06-.94-2.06-.94L8.5 2.5l-.94 2.06-2.06.94zm10 10l.94 2.06.94-2.06 2.06-.94-2.06-.94-.94-2.06-.94 2.06-2.06.94z\"/><path d=\"M17.41 7.96l-1.37-1.37c-.4-.4-.92-.59-1.43-.59-.52 0-1.04.2-1.43.59L10.3 9.45l-7.72 7.72c-.78.78-.78 2.05 0 2.83L4 21.41c.39.39.9.59 1.41.59.51 0 1.02-.2 1.41-.59l7.78-7.78 2.81-2.81c.8-.78.8-2.07 0-2.86zM5.41 20L4 18.59l7.72-7.72 1.47 1.35L5.41 20z\"/>\n",
              "  </svg>\n",
              "      </button>\n",
              "      \n",
              "  <style>\n",
              "    .colab-df-container {\n",
              "      display:flex;\n",
              "      flex-wrap:wrap;\n",
              "      gap: 12px;\n",
              "    }\n",
              "\n",
              "    .colab-df-convert {\n",
              "      background-color: #E8F0FE;\n",
              "      border: none;\n",
              "      border-radius: 50%;\n",
              "      cursor: pointer;\n",
              "      display: none;\n",
              "      fill: #1967D2;\n",
              "      height: 32px;\n",
              "      padding: 0 0 0 0;\n",
              "      width: 32px;\n",
              "    }\n",
              "\n",
              "    .colab-df-convert:hover {\n",
              "      background-color: #E2EBFA;\n",
              "      box-shadow: 0px 1px 2px rgba(60, 64, 67, 0.3), 0px 1px 3px 1px rgba(60, 64, 67, 0.15);\n",
              "      fill: #174EA6;\n",
              "    }\n",
              "\n",
              "    [theme=dark] .colab-df-convert {\n",
              "      background-color: #3B4455;\n",
              "      fill: #D2E3FC;\n",
              "    }\n",
              "\n",
              "    [theme=dark] .colab-df-convert:hover {\n",
              "      background-color: #434B5C;\n",
              "      box-shadow: 0px 1px 3px 1px rgba(0, 0, 0, 0.15);\n",
              "      filter: drop-shadow(0px 1px 2px rgba(0, 0, 0, 0.3));\n",
              "      fill: #FFFFFF;\n",
              "    }\n",
              "  </style>\n",
              "\n",
              "      <script>\n",
              "        const buttonEl =\n",
              "          document.querySelector('#df-86cfbf51-54db-4c4f-8566-ac4b02aa9238 button.colab-df-convert');\n",
              "        buttonEl.style.display =\n",
              "          google.colab.kernel.accessAllowed ? 'block' : 'none';\n",
              "\n",
              "        async function convertToInteractive(key) {\n",
              "          const element = document.querySelector('#df-86cfbf51-54db-4c4f-8566-ac4b02aa9238');\n",
              "          const dataTable =\n",
              "            await google.colab.kernel.invokeFunction('convertToInteractive',\n",
              "                                                     [key], {});\n",
              "          if (!dataTable) return;\n",
              "\n",
              "          const docLinkHtml = 'Like what you see? Visit the ' +\n",
              "            '<a target=\"_blank\" href=https://colab.research.google.com/notebooks/data_table.ipynb>data table notebook</a>'\n",
              "            + ' to learn more about interactive tables.';\n",
              "          element.innerHTML = '';\n",
              "          dataTable['output_type'] = 'display_data';\n",
              "          await google.colab.output.renderOutput(dataTable, element);\n",
              "          const docLink = document.createElement('div');\n",
              "          docLink.innerHTML = docLinkHtml;\n",
              "          element.appendChild(docLink);\n",
              "        }\n",
              "      </script>\n",
              "    </div>\n",
              "  </div>\n",
              "  "
            ]
          },
          "metadata": {},
          "execution_count": 37
        }
      ]
    },
    {
      "cell_type": "markdown",
      "source": [
        "# Acrtic U1315\n",
        "http://publications.iodp.org/proceedings/303_306/114/114_.htm\n",
        "\n",
        "Position might not be 100% correct."
      ],
      "metadata": {
        "id": "q95Zm8rskD7g"
      }
    },
    {
      "cell_type": "code",
      "source": [
        "ddm2dd(pd.Series([\"067°13.1850'N\", \"002°55.7789'E\"]))"
      ],
      "metadata": {
        "colab": {
          "base_uri": "https://localhost:8080/"
        },
        "id": "GddShDOFgxF1",
        "outputId": "14d7d496-6d0a-4408-ccc6-08cc924e6602"
      },
      "execution_count": 40,
      "outputs": [
        {
          "output_type": "execute_result",
          "data": {
            "text/plain": [
              "0    67.219750\n",
              "1     2.929648\n",
              "dtype: float64"
            ]
          },
          "metadata": {},
          "execution_count": 40
        }
      ]
    }
  ]
}
